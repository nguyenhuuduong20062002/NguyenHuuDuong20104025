{
  "nbformat": 4,
  "nbformat_minor": 0,
  "metadata": {
    "colab": {
      "provenance": [],
      "collapsed_sections": [],
      "authorship_tag": "ABX9TyO7/Rt/KAB4U9l/mZye3/py",
      "include_colab_link": true
    },
    "kernelspec": {
      "name": "python3",
      "display_name": "Python 3"
    },
    "language_info": {
      "name": "python"
    }
  },
  "cells": [
    {
      "cell_type": "markdown",
      "metadata": {
        "id": "view-in-github",
        "colab_type": "text"
      },
      "source": [
        "<a href=\"https://colab.research.google.com/github/nguyenhuuduong20062002/NguyenHuuDuong20104025/blob/main/baitap6_2.ipynb\" target=\"_parent\"><img src=\"https://colab.research.google.com/assets/colab-badge.svg\" alt=\"Open In Colab\"/></a>"
      ]
    },
    {
      "cell_type": "code",
      "execution_count": null,
      "metadata": {
        "id": "hFoZq8PlG2bA"
      },
      "outputs": [],
      "source": [
        "from keras.datasets import fashion_mnist\n",
        "(x_train, y_train),(x_test, y_test) = fashion_mnist.load_data()"
      ]
    },
    {
      "cell_type": "code",
      "source": [
        "x_train.shape"
      ],
      "metadata": {
        "colab": {
          "base_uri": "https://localhost:8080/"
        },
        "id": "AIRfjhidHUb0",
        "outputId": "607a2d51-2429-465d-f1d1-6890d1456d0f"
      },
      "execution_count": null,
      "outputs": [
        {
          "output_type": "execute_result",
          "data": {
            "text/plain": [
              "(60000, 28, 28)"
            ]
          },
          "metadata": {},
          "execution_count": 35
        }
      ]
    },
    {
      "cell_type": "code",
      "source": [
        "y_train.shape"
      ],
      "metadata": {
        "colab": {
          "base_uri": "https://localhost:8080/"
        },
        "id": "KJ3qQsVoHfGf",
        "outputId": "e97d6e64-000b-4da7-dd8a-5242b9a9abfa"
      },
      "execution_count": null,
      "outputs": [
        {
          "output_type": "execute_result",
          "data": {
            "text/plain": [
              "(60000,)"
            ]
          },
          "metadata": {},
          "execution_count": 3
        }
      ]
    },
    {
      "cell_type": "code",
      "source": [
        "x_test.shape"
      ],
      "metadata": {
        "colab": {
          "base_uri": "https://localhost:8080/"
        },
        "id": "nDJohgt0Hinf",
        "outputId": "cd68b86e-ff40-4814-d675-b1cea1450cf2"
      },
      "execution_count": null,
      "outputs": [
        {
          "output_type": "execute_result",
          "data": {
            "text/plain": [
              "(10000, 28, 28)"
            ]
          },
          "metadata": {},
          "execution_count": 4
        }
      ]
    },
    {
      "cell_type": "code",
      "source": [
        "y_test.shape"
      ],
      "metadata": {
        "colab": {
          "base_uri": "https://localhost:8080/"
        },
        "id": "J1y42U6CHlho",
        "outputId": "c7990b45-952d-431a-8498-0823eba0102a"
      },
      "execution_count": null,
      "outputs": [
        {
          "output_type": "execute_result",
          "data": {
            "text/plain": [
              "(10000,)"
            ]
          },
          "metadata": {},
          "execution_count": 36
        }
      ]
    },
    {
      "cell_type": "code",
      "source": [
        "import matplotlib.pyplot as plt\n",
        "plt.imshow(x_train[4])\n",
        "Class_names=['T-shirt/Top','Trouser','Pullow','Dress','Coat','Sandal','Shirt','Sneaker','Bag','Ankle boot']\n",
        "plt.show()\n",
        "print(Class_names[y_train[4]])"
      ],
      "metadata": {
        "colab": {
          "base_uri": "https://localhost:8080/",
          "height": 283
        },
        "id": "fp7OwVXQJJty",
        "outputId": "ea1f33db-f90d-47fa-bc06-dd181bb3c41e"
      },
      "execution_count": null,
      "outputs": [
        {
          "output_type": "display_data",
          "data": {
            "text/plain": [
              "<Figure size 432x288 with 1 Axes>"
            ],
            "image/png": "[encoded data removed]"
          },
          "metadata": {
            "needs_background": "light"
          }
        },
        {
          "output_type": "stream",
          "name": "stdout",
          "text": [
            "T-shirt/Top\n"
          ]
        }
      ]
    },
    {
      "cell_type": "code",
      "source": [
        "x_train=x_train.reshape((60000,28*28))\n",
        "x_train=x_train.astype('float32')/255\n",
        "x_test=x_test.reshape((10000,28*28))\n",
        "x_test=x_test.astype('float32')/255\n"
      ],
      "metadata": {
        "id": "f09cbAHTIRCj"
      },
      "execution_count": null,
      "outputs": []
    },
    {
      "cell_type": "code",
      "source": [
        "from keras.utils import to_categorical\n",
        "y_train=to_categorical(y_train)\n",
        "y_test=to_categorical(y_test)"
      ],
      "metadata": {
        "id": "83d6KhetO267"
      },
      "execution_count": null,
      "outputs": []
    },
    {
      "cell_type": "code",
      "source": [
        "from keras import models\n",
        "from keras import layers\n",
        "model = models.Sequential()\n",
        "model.add(layers.Dense(500,activation='relu',input_shape=(28*28,)))\n",
        "model.add(layers.Dense(10,activation='softmax'))\n",
        "model.summary()\n",
        "model.compile(optimizer='rmsprop',loss='categorical_crossentropy', metrics=\"accuracy\")\n",
        "model.fit(x_train, y_train, epochs=100,batch_size=128)"
      ],
      "metadata": {
        "colab": {
          "base_uri": "https://localhost:8080/"
        },
        "id": "EmvRv5nxI4p5",
        "outputId": "43c63283-f077-41ed-9627-dedd2c257352"
      },
      "execution_count": null,
      "outputs": [
        {
          "output_type": "stream",
          "name": "stdout",
          "text": [
            "Model: \"sequential_5\"\n",
            "_________________________________________________________________\n",
            " Layer (type)                Output Shape              Param #   \n",
            "=================================================================\n",
            " dense_10 (Dense)            (None, 500)               392500    \n",
            "                                                                 \n",
            " dense_11 (Dense)            (None, 10)                5010      \n",
            "                                                                 \n",
            "=================================================================\n",
            "Total params: 397,510\n",
            "Trainable params: 397,510\n",
            "Non-trainable params: 0\n",
            "_________________________________________________________________\n",
            "Epoch 1/100\n",
            "469/469 [==============================] - 5s 10ms/step - loss: 0.5516 - accuracy: 0.8044\n",
            "Epoch 2/100\n",
            "469/469 [==============================] - 5s 10ms/step - loss: 0.3798 - accuracy: 0.8614\n",
            "Epoch 3/100\n",
            "469/469 [==============================] - 5s 10ms/step - loss: 0.3356 - accuracy: 0.8761\n",
            "Epoch 4/100\n",
            "469/469 [==============================] - 5s 10ms/step - loss: 0.3105 - accuracy: 0.8852\n",
            "Epoch 5/100\n",
            "469/469 [==============================] - 5s 10ms/step - loss: 0.2915 - accuracy: 0.8928\n",
            "Epoch 6/100\n",
            "469/469 [==============================] - 5s 10ms/step - loss: 0.2769 - accuracy: 0.8984\n",
            "Epoch 7/100\n",
            "469/469 [==============================] - 5s 12ms/step - loss: 0.2657 - accuracy: 0.9012\n",
            "Epoch 8/100\n",
            "469/469 [==============================] - 7s 15ms/step - loss: 0.2523 - accuracy: 0.9072\n",
            "Epoch 9/100\n",
            "469/469 [==============================] - 6s 13ms/step - loss: 0.2432 - accuracy: 0.9096\n",
            "Epoch 10/100\n",
            "469/469 [==============================] - 6s 13ms/step - loss: 0.2345 - accuracy: 0.9128\n",
            "Epoch 11/100\n",
            "469/469 [==============================] - 9s 18ms/step - loss: 0.2261 - accuracy: 0.9164\n",
            "Epoch 12/100\n",
            "469/469 [==============================] - 9s 18ms/step - loss: 0.2180 - accuracy: 0.9202\n",
            "Epoch 13/100\n",
            "469/469 [==============================] - 9s 18ms/step - loss: 0.2087 - accuracy: 0.9235\n",
            "Epoch 14/100\n",
            "469/469 [==============================] - 6s 12ms/step - loss: 0.2032 - accuracy: 0.9257\n",
            "Epoch 15/100\n",
            "469/469 [==============================] - 6s 13ms/step - loss: 0.1990 - accuracy: 0.9262\n",
            "Epoch 16/100\n",
            "469/469 [==============================] - 5s 11ms/step - loss: 0.1921 - accuracy: 0.9288\n",
            "Epoch 17/100\n",
            "469/469 [==============================] - 5s 10ms/step - loss: 0.1886 - accuracy: 0.9307\n",
            "Epoch 18/100\n",
            "469/469 [==============================] - 5s 10ms/step - loss: 0.1817 - accuracy: 0.9338\n",
            "Epoch 19/100\n",
            "469/469 [==============================] - 5s 10ms/step - loss: 0.1753 - accuracy: 0.9352\n",
            "Epoch 20/100\n",
            "469/469 [==============================] - 5s 10ms/step - loss: 0.1734 - accuracy: 0.9365\n",
            "Epoch 21/100\n",
            "469/469 [==============================] - 7s 14ms/step - loss: 0.1693 - accuracy: 0.9376\n",
            "Epoch 22/100\n",
            "469/469 [==============================] - 7s 15ms/step - loss: 0.1637 - accuracy: 0.9396\n",
            "Epoch 23/100\n",
            "469/469 [==============================] - 5s 11ms/step - loss: 0.1613 - accuracy: 0.9412\n",
            "Epoch 24/100\n",
            "469/469 [==============================] - 5s 10ms/step - loss: 0.1561 - accuracy: 0.9433\n",
            "Epoch 25/100\n",
            "469/469 [==============================] - 6s 13ms/step - loss: 0.1505 - accuracy: 0.9453\n",
            "Epoch 26/100\n",
            "469/469 [==============================] - 6s 14ms/step - loss: 0.1501 - accuracy: 0.9458\n",
            "Epoch 27/100\n",
            "469/469 [==============================] - 7s 15ms/step - loss: 0.1445 - accuracy: 0.9472\n",
            "Epoch 28/100\n",
            "469/469 [==============================] - 6s 14ms/step - loss: 0.1429 - accuracy: 0.9483\n",
            "Epoch 29/100\n",
            "469/469 [==============================] - 7s 15ms/step - loss: 0.1393 - accuracy: 0.9491\n",
            "Epoch 30/100\n",
            "469/469 [==============================] - 5s 12ms/step - loss: 0.1370 - accuracy: 0.9516\n",
            "Epoch 31/100\n",
            "469/469 [==============================] - 5s 11ms/step - loss: 0.1354 - accuracy: 0.9516\n",
            "Epoch 32/100\n",
            "469/469 [==============================] - 5s 10ms/step - loss: 0.1296 - accuracy: 0.9541\n",
            "Epoch 33/100\n",
            "469/469 [==============================] - 9s 18ms/step - loss: 0.1298 - accuracy: 0.9535\n",
            "Epoch 34/100\n",
            "469/469 [==============================] - 8s 17ms/step - loss: 0.1244 - accuracy: 0.9552\n",
            "Epoch 35/100\n",
            "469/469 [==============================] - 5s 11ms/step - loss: 0.1244 - accuracy: 0.9556\n",
            "Epoch 36/100\n",
            "469/469 [==============================] - 5s 10ms/step - loss: 0.1219 - accuracy: 0.9567\n",
            "Epoch 37/100\n",
            "469/469 [==============================] - 7s 15ms/step - loss: 0.1198 - accuracy: 0.9568\n",
            "Epoch 38/100\n",
            "469/469 [==============================] - 7s 14ms/step - loss: 0.1184 - accuracy: 0.9587\n",
            "Epoch 39/100\n",
            "469/469 [==============================] - 7s 15ms/step - loss: 0.1139 - accuracy: 0.9599\n",
            "Epoch 40/100\n",
            "469/469 [==============================] - 9s 19ms/step - loss: 0.1146 - accuracy: 0.9596\n",
            "Epoch 41/100\n",
            "469/469 [==============================] - 6s 14ms/step - loss: 0.1086 - accuracy: 0.9622\n",
            "Epoch 42/100\n",
            "469/469 [==============================] - 8s 18ms/step - loss: 0.1083 - accuracy: 0.9626\n",
            "Epoch 43/100\n",
            "469/469 [==============================] - 8s 17ms/step - loss: 0.1084 - accuracy: 0.9627\n",
            "Epoch 44/100\n",
            "469/469 [==============================] - 7s 15ms/step - loss: 0.1070 - accuracy: 0.9623\n",
            "Epoch 45/100\n",
            "469/469 [==============================] - 5s 10ms/step - loss: 0.1029 - accuracy: 0.9638\n",
            "Epoch 46/100\n",
            "469/469 [==============================] - 5s 10ms/step - loss: 0.1027 - accuracy: 0.9646\n",
            "Epoch 47/100\n",
            "469/469 [==============================] - 5s 10ms/step - loss: 0.1012 - accuracy: 0.9649\n",
            "Epoch 48/100\n",
            "469/469 [==============================] - 5s 10ms/step - loss: 0.1026 - accuracy: 0.9647\n",
            "Epoch 49/100\n",
            "469/469 [==============================] - 5s 10ms/step - loss: 0.0988 - accuracy: 0.9661\n",
            "Epoch 50/100\n",
            "469/469 [==============================] - 5s 11ms/step - loss: 0.0970 - accuracy: 0.9669\n",
            "Epoch 51/100\n",
            "469/469 [==============================] - 7s 14ms/step - loss: 0.0927 - accuracy: 0.9687\n",
            "Epoch 52/100\n",
            "469/469 [==============================] - 6s 12ms/step - loss: 0.0928 - accuracy: 0.9681\n",
            "Epoch 53/100\n",
            "469/469 [==============================] - 5s 10ms/step - loss: 0.0905 - accuracy: 0.9683\n",
            "Epoch 54/100\n",
            "469/469 [==============================] - 7s 14ms/step - loss: 0.0921 - accuracy: 0.9682\n",
            "Epoch 55/100\n",
            "469/469 [==============================] - 7s 16ms/step - loss: 0.0860 - accuracy: 0.9700\n",
            "Epoch 56/100\n",
            "469/469 [==============================] - 6s 13ms/step - loss: 0.0866 - accuracy: 0.9705\n",
            "Epoch 57/100\n",
            "469/469 [==============================] - 5s 10ms/step - loss: 0.0858 - accuracy: 0.9701\n",
            "Epoch 58/100\n",
            "469/469 [==============================] - 5s 10ms/step - loss: 0.0865 - accuracy: 0.9712\n",
            "Epoch 59/100\n",
            "469/469 [==============================] - 5s 10ms/step - loss: 0.0836 - accuracy: 0.9719\n",
            "Epoch 60/100\n",
            "469/469 [==============================] - 5s 10ms/step - loss: 0.0848 - accuracy: 0.9718\n",
            "Epoch 61/100\n",
            "469/469 [==============================] - 7s 15ms/step - loss: 0.0815 - accuracy: 0.9727\n",
            "Epoch 62/100\n",
            "469/469 [==============================] - 5s 10ms/step - loss: 0.0833 - accuracy: 0.9728\n",
            "Epoch 63/100\n",
            "469/469 [==============================] - 5s 10ms/step - loss: 0.0794 - accuracy: 0.9728\n",
            "Epoch 64/100\n",
            "469/469 [==============================] - 5s 10ms/step - loss: 0.0789 - accuracy: 0.9733\n",
            "Epoch 65/100\n",
            "469/469 [==============================] - 5s 10ms/step - loss: 0.0772 - accuracy: 0.9741\n",
            "Epoch 66/100\n",
            "469/469 [==============================] - 5s 10ms/step - loss: 0.0780 - accuracy: 0.9746\n",
            "Epoch 67/100\n",
            "469/469 [==============================] - 5s 10ms/step - loss: 0.0774 - accuracy: 0.9742\n",
            "Epoch 68/100\n",
            "469/469 [==============================] - 5s 10ms/step - loss: 0.0751 - accuracy: 0.9754\n",
            "Epoch 69/100\n",
            "469/469 [==============================] - 4s 10ms/step - loss: 0.0745 - accuracy: 0.9753\n",
            "Epoch 70/100\n",
            "469/469 [==============================] - 5s 10ms/step - loss: 0.0740 - accuracy: 0.9753\n",
            "Epoch 71/100\n",
            "469/469 [==============================] - 5s 10ms/step - loss: 0.0728 - accuracy: 0.9764\n",
            "Epoch 72/100\n",
            "469/469 [==============================] - 5s 10ms/step - loss: 0.0709 - accuracy: 0.9768\n",
            "Epoch 73/100\n",
            "469/469 [==============================] - 6s 13ms/step - loss: 0.0714 - accuracy: 0.9765\n",
            "Epoch 74/100\n",
            "469/469 [==============================] - 5s 12ms/step - loss: 0.0670 - accuracy: 0.9780\n",
            "Epoch 75/100\n",
            "469/469 [==============================] - 5s 10ms/step - loss: 0.0712 - accuracy: 0.9772\n",
            "Epoch 76/100\n",
            "469/469 [==============================] - 5s 11ms/step - loss: 0.0694 - accuracy: 0.9776\n",
            "Epoch 77/100\n",
            "469/469 [==============================] - 5s 10ms/step - loss: 0.0684 - accuracy: 0.9778\n",
            "Epoch 78/100\n",
            "469/469 [==============================] - 5s 10ms/step - loss: 0.0673 - accuracy: 0.9781\n",
            "Epoch 79/100\n",
            "469/469 [==============================] - 5s 10ms/step - loss: 0.0669 - accuracy: 0.9781\n",
            "Epoch 80/100\n",
            "469/469 [==============================] - 8s 18ms/step - loss: 0.0667 - accuracy: 0.9782\n",
            "Epoch 81/100\n",
            "469/469 [==============================] - 4s 9ms/step - loss: 0.0642 - accuracy: 0.9790\n",
            "Epoch 82/100\n",
            "469/469 [==============================] - 5s 11ms/step - loss: 0.0640 - accuracy: 0.9792\n",
            "Epoch 83/100\n",
            "469/469 [==============================] - 5s 10ms/step - loss: 0.0669 - accuracy: 0.9789\n",
            "Epoch 84/100\n",
            "469/469 [==============================] - 5s 10ms/step - loss: 0.0654 - accuracy: 0.9792\n",
            "Epoch 85/100\n",
            "469/469 [==============================] - 5s 10ms/step - loss: 0.0602 - accuracy: 0.9808\n",
            "Epoch 86/100\n",
            "469/469 [==============================] - 5s 10ms/step - loss: 0.0623 - accuracy: 0.9803\n",
            "Epoch 87/100\n",
            "469/469 [==============================] - 5s 10ms/step - loss: 0.0597 - accuracy: 0.9807\n",
            "Epoch 88/100\n",
            "469/469 [==============================] - 5s 10ms/step - loss: 0.0608 - accuracy: 0.9803\n",
            "Epoch 89/100\n",
            "469/469 [==============================] - 5s 10ms/step - loss: 0.0609 - accuracy: 0.9806\n",
            "Epoch 90/100\n",
            "469/469 [==============================] - 5s 10ms/step - loss: 0.0606 - accuracy: 0.9808\n",
            "Epoch 91/100\n",
            "469/469 [==============================] - 5s 10ms/step - loss: 0.0564 - accuracy: 0.9821\n",
            "Epoch 92/100\n",
            "469/469 [==============================] - 5s 10ms/step - loss: 0.0584 - accuracy: 0.9809\n",
            "Epoch 93/100\n",
            "469/469 [==============================] - 5s 10ms/step - loss: 0.0600 - accuracy: 0.9818\n",
            "Epoch 94/100\n",
            "469/469 [==============================] - 4s 10ms/step - loss: 0.0583 - accuracy: 0.9821\n",
            "Epoch 95/100\n",
            "469/469 [==============================] - 5s 11ms/step - loss: 0.0591 - accuracy: 0.9820\n",
            "Epoch 96/100\n",
            "469/469 [==============================] - 5s 11ms/step - loss: 0.0575 - accuracy: 0.9819\n",
            "Epoch 97/100\n",
            "469/469 [==============================] - 5s 10ms/step - loss: 0.0568 - accuracy: 0.9821\n",
            "Epoch 98/100\n",
            "469/469 [==============================] - 4s 10ms/step - loss: 0.0594 - accuracy: 0.9824\n",
            "Epoch 99/100\n",
            "469/469 [==============================] - 4s 10ms/step - loss: 0.0552 - accuracy: 0.9828\n",
            "Epoch 100/100\n",
            "469/469 [==============================] - 4s 10ms/step - loss: 0.0529 - accuracy: 0.9835\n"
          ]
        },
        {
          "output_type": "execute_result",
          "data": {
            "text/plain": [
              "<keras.callbacks.History at 0x7f6da23b7ed0>"
            ]
          },
          "metadata": {},
          "execution_count": 40
        }
      ]
    },
    {
      "cell_type": "code",
      "source": [
        "from keras.utils import img_to_array\n",
        "import numpy as np\n",
        "\n",
        "img=load_img('',target_size(28*28,))\n",
        "img=img_to_array(img)\n",
        "img=img.shape(1,28,28,3)\n",
        "img=img.astype('float32')\n",
        "img=img/255\n",
        "np.argmax(model.predict(img),axis=1)"
      ],
      "metadata": {
        "colab": {
          "base_uri": "https://localhost:8080/",
          "height": 245
        },
        "id": "9HamllEBRVwY",
        "outputId": "4c929ef0-c4ab-4b92-d764-4eb31e900d7b"
      },
      "execution_count": null,
      "outputs": [
        {
          "output_type": "error",
          "ename": "NameError",
          "evalue": "ignored",
          "traceback": [
            "\u001b[0;31m---------------------------------------------------------------------------\u001b[0m",
            "\u001b[0;31mNameError\u001b[0m                                 Traceback (most recent call last)",
            "\u001b[0;32m<ipython-input-41-79909bbd4d80>\u001b[0m in \u001b[0;36m<module>\u001b[0;34m\u001b[0m\n\u001b[1;32m      1\u001b[0m \u001b[0;32mfrom\u001b[0m \u001b[0mkeras\u001b[0m\u001b[0;34m.\u001b[0m\u001b[0mutils\u001b[0m \u001b[0;32mimport\u001b[0m \u001b[0mto_categorical\u001b[0m\u001b[0;34m\u001b[0m\u001b[0;34m\u001b[0m\u001b[0m\n\u001b[0;32m----> 2\u001b[0;31m \u001b[0mimg\u001b[0m\u001b[0;34m=\u001b[0m\u001b[0mload_img\u001b[0m\u001b[0;34m(\u001b[0m\u001b[0murl\u001b[0m\u001b[0;34m,\u001b[0m\u001b[0mtarget_size\u001b[0m\u001b[0;34m(\u001b[0m\u001b[0;36m28\u001b[0m\u001b[0;34m*\u001b[0m\u001b[0;36m28\u001b[0m\u001b[0;34m)\u001b[0m\u001b[0;34m)\u001b[0m\u001b[0;34m\u001b[0m\u001b[0;34m\u001b[0m\u001b[0m\n\u001b[0m\u001b[1;32m      3\u001b[0m \u001b[0mimg\u001b[0m\u001b[0;34m=\u001b[0m\u001b[0mimg_to_array\u001b[0m\u001b[0;34m(\u001b[0m\u001b[0mimg\u001b[0m\u001b[0;34m)\u001b[0m\u001b[0;34m\u001b[0m\u001b[0;34m\u001b[0m\u001b[0m\n\u001b[1;32m      4\u001b[0m \u001b[0mimg\u001b[0m\u001b[0;34m=\u001b[0m\u001b[0mimg\u001b[0m\u001b[0;34m.\u001b[0m\u001b[0mshape\u001b[0m\u001b[0;34m(\u001b[0m\u001b[0;36m1\u001b[0m\u001b[0;34m,\u001b[0m\u001b[0;36m28\u001b[0m\u001b[0;34m,\u001b[0m\u001b[0;36m28\u001b[0m\u001b[0;34m,\u001b[0m\u001b[0;36m3\u001b[0m\u001b[0;34m)\u001b[0m\u001b[0;34m\u001b[0m\u001b[0;34m\u001b[0m\u001b[0m\n\u001b[1;32m      5\u001b[0m \u001b[0mimg\u001b[0m\u001b[0;34m=\u001b[0m\u001b[0mimg\u001b[0m\u001b[0;34m.\u001b[0m\u001b[0mastype\u001b[0m\u001b[0;34m(\u001b[0m\u001b[0;34m'float32'\u001b[0m\u001b[0;34m)\u001b[0m\u001b[0;34m\u001b[0m\u001b[0;34m\u001b[0m\u001b[0m\n",
            "\u001b[0;31mNameError\u001b[0m: name 'load_img' is not defined"
          ]
        }
      ]
    }
  ]
}