{
  "nbformat": 4,
  "nbformat_minor": 0,
  "metadata": {
    "colab": {
      "provenance": [],
      "collapsed_sections": [],
      "authorship_tag": "ABX9TyN/+CctgNDj+vgEOzZWBhho",
      "include_colab_link": true
    },
    "kernelspec": {
      "name": "python3",
      "display_name": "Python 3"
    },
    "language_info": {
      "name": "python"
    }
  },
  "cells": [
    {
      "cell_type": "markdown",
      "metadata": {
        "id": "view-in-github",
        "colab_type": "text"
      },
      "source": [
        "<a href=\"https://colab.research.google.com/github/nguyenhuuduong20062002/NguyenHuuDuong20104025/blob/main/Baitap4.ipynb\" target=\"_parent\"><img src=\"https://colab.research.google.com/assets/colab-badge.svg\" alt=\"Open In Colab\"/></a>"
      ]
    },
    {
      "cell_type": "code",
      "execution_count": null,
      "metadata": {
        "colab": {
          "base_uri": "https://localhost:8080/",
          "height": 298
        },
        "id": "PVQt0-D-sn3S",
        "outputId": "fb0975ab-d3be-4342-d354-7e9e8f537316"
      },
      "outputs": [
        {
          "output_type": "stream",
          "name": "stdout",
          "text": [
            "6.712539682539683\n"
          ]
        },
        {
          "output_type": "display_data",
          "data": {
            "text/plain": [
              "<Figure size 432x288 with 1 Axes>"
            ],
            "image/png": "[encoded data removed]"
          },
          "metadata": {
            "needs_background": "light"
          }
        }
      ],
      "source": [
        "import numpy as np\n",
        "import skfuzzy as fuzz\n",
        "from skfuzzy import control as ctrl\n",
        "Wind = ctrl.Antecedent(np.arange(0.7,3.1,0.48),'Wind')\n",
        "Temp = ctrl.Antecedent(np.arange(20.4,41.2,4.16),'Temp')\n",
        "Rain = ctrl.Consequent(np.arange(0.2,9.1,1.78),'Rain')\n",
        "Wind['VL']=fuzz.trimf(Wind.universe,[0.7,0.7,1.18])\n",
        "Wind['L']=fuzz.trimf(Wind.universe,[0.7,1.18,1.66])\n",
        "Wind['N']=fuzz.trimf(Wind.universe,[1.18,1.66,2.14])\n",
        "Wind['H']=fuzz.trimf(Wind.universe,[1.66,2.14,2.62])\n",
        "Wind['VH']=fuzz.trimf(Wind.universe,[2.14,2.62,3.1])\n",
        "Temp['VL']=fuzz.trimf(Temp.universe,[20.4,20.4,24.56])\n",
        "Temp['L']=fuzz.trimf(Temp.universe,[20.4,24.56,28.72])\n",
        "Temp['N']=fuzz.trimf(Temp.universe,[24.56,28.72,32.88])\n",
        "Temp['H']=fuzz.trimf(Temp.universe,[28.72,32.88,37.04])\n",
        "Temp['VH']=fuzz.trimf(Temp.universe,[32.88,37.04,41.2])\n",
        "Rain['VL']=fuzz.trimf(Rain.universe,[0.2,1.98,3.76])\n",
        "Rain['L']=fuzz.trimf(Rain.universe,[1.98,3.76,5.54])\n",
        "Rain['N']=fuzz.trimf(Rain.universe,[3.76,5.54,7.32])\n",
        "Rain['H']=fuzz.trimf(Rain.universe,[5.54,7.32,8])\n",
        "Rain['VH']=fuzz.trimf(Rain.universe,[7.32,8,9.1])\n",
        "\n",
        "rule1=ctrl.Rule(Wind['VL'] & Temp['VL'], Rain['VL'])\n",
        "rule2=ctrl.Rule(Wind['VL'] & Temp['L'], Rain['L'])\n",
        "rule3=ctrl.Rule(Wind['VL'] & Temp['N'], Rain['N'])\n",
        "rule4=ctrl.Rule(Wind['VL'] & Temp['H'], Rain['H'])\n",
        "rule5=ctrl.Rule(Wind['VL'] & Temp['VH'], Rain['VH'])\n",
        "rule6=ctrl.Rule(Wind['L'] & Temp['VL'], Rain['VL'])\n",
        "rule7=ctrl.Rule(Wind['L'] & Temp['L'], Rain['VL'])\n",
        "rule8=ctrl.Rule(Wind['L'] & Temp['N'], Rain['N'])\n",
        "rule9=ctrl.Rule(Wind['L'] & Temp['H'], Rain['N'])\n",
        "rule10=ctrl.Rule(Wind['L'] & Temp['VH'], Rain['H'])\n",
        "rule11=ctrl.Rule(Wind['N'] & Temp['VL'], Rain['L'])\n",
        "rule12=ctrl.Rule(Wind['N'] & Temp['L'], Rain['N'])\n",
        "rule13=ctrl.Rule(Wind['N'] & Temp['N'], Rain['N'])\n",
        "rule14=ctrl.Rule(Wind['N'] & Temp['H'], Rain['H'])\n",
        "rule15=ctrl.Rule(Wind['N'] & Temp['VH'], Rain['H'])\n",
        "rule16=ctrl.Rule(Wind['H'] & Temp['VL'], Rain['N'])\n",
        "rule17=ctrl.Rule(Wind['H'] & Temp['L'], Rain['N'])\n",
        "rule18=ctrl.Rule(Wind['H'] & Temp['N'], Rain['H'])\n",
        "rule19=ctrl.Rule(Wind['H'] & Temp['H'], Rain['VH'])\n",
        "rule20=ctrl.Rule(Wind['H'] & Temp['VH'], Rain['VH'])\n",
        "rule21=ctrl.Rule(Wind['VH'] & Temp['VL'], Rain['H'])\n",
        "rule22=ctrl.Rule(Wind['VH'] & Temp['L'], Rain['H'])\n",
        "rule23=ctrl.Rule(Wind['VH'] & Temp['N'], Rain['H'])\n",
        "rule24=ctrl.Rule(Wind['VH'] & Temp['H'], Rain['VH'])\n",
        "rule25=ctrl.Rule(Wind['VH'] & Temp['VH'], Rain['VH'])\n",
        "\n",
        "rain_ctrl=ctrl.ControlSystem([rule1,rule2,rule3,rule4,rule5,rule6,rule7,rule8,rule9,rule10,rule11,rule12,rule13,rule14,rule15,rule16,rule17,rule18,rule19,rule20,rule21,rule22,rule23,rule24,rule25])\n",
        "rain=ctrl.ControlSystemSimulation(rain_ctrl)\n",
        "rain.input['Wind']= 2.7\n",
        "rain.input['Temp']= 25\n",
        "rain.compute()\n",
        "print(rain.output['Rain'])\n",
        "Rain.view(sim= rain)\n"
      ]
    },
    {
      "cell_type": "code",
      "source": [
        "import numpy as np\n",
        "import skfuzzy as fuzz\n",
        "from skfuzzy import control as ctrl\n",
        "Height = ctrl.Antecedent(np.arange(0.7,3.1,0.48),'Wind')\n",
        "Weight = ctrl.Antecedent(np.arange(20.4,41.2,4.16),'Temp')"
      ],
      "metadata": {
        "id": "K76vUuwp9BlF"
      },
      "execution_count": null,
      "outputs": []
    },
    {
      "cell_type": "code",
      "source": [],
      "metadata": {
        "id": "ZJrYu7C6DuPU"
      },
      "execution_count": null,
      "outputs": []
    },
    {
      "cell_type": "code",
      "source": [
        "pip install -U scikit-fuzzy\n"
      ],
      "metadata": {
        "colab": {
          "base_uri": "https://localhost:8080/"
        },
        "id": "ckzgZTVPy2qu",
        "outputId": "b327e5b1-2379-47bb-adc6-b4615e7be4ee"
      },
      "execution_count": null,
      "outputs": [
        {
          "output_type": "stream",
          "name": "stdout",
          "text": [
            "Looking in indexes: https://pypi.org/simple, https://us-python.pkg.dev/colab-wheels/public/simple/\n",
            "Requirement already satisfied: scikit-fuzzy in /usr/local/lib/python3.7/dist-packages (0.4.2)\n",
            "Requirement already satisfied: scipy>=0.9.0 in /usr/local/lib/python3.7/dist-packages (from scikit-fuzzy) (1.7.3)\n",
            "Requirement already satisfied: numpy>=1.6.0 in /usr/local/lib/python3.7/dist-packages (from scikit-fuzzy) (1.21.6)\n",
            "Requirement already satisfied: networkx>=1.9.0 in /usr/local/lib/python3.7/dist-packages (from scikit-fuzzy) (2.6.3)\n"
          ]
        }
      ]
    },
    {
      "cell_type": "code",
      "source": [
        "import numpy as np\n",
        "import pandas as pd\n",
        "import matplotlib.pyplot as plt\n",
        "import seaborn as sas\n",
        "data=pd.read.csv('/content/Salary_Data.csv')\n",
        "data.head()\n",
        "data.shape()\n",
        "\n",
        "x = data.drop(['Salary'],axis= True)\n",
        "y = data['Salary']\n",
        "from sklearn.model_selection import train_test_split\n",
        "x.train, x.test, y.train, y.test = train_test_split(x,y,test.size = 0.2, random.state=32)\n",
        "x.train.shape, x.test.shape, y.train.shape, y.test.shape\n",
        "sas.pairplot()\n"
      ],
      "metadata": {
        "colab": {
          "base_uri": "https://localhost:8080/",
          "height": 132
        },
        "id": "SD1MaMeWDvkH",
        "outputId": "67441e5b-2eec-4362-cd71-d2ac8c007325"
      },
      "execution_count": null,
      "outputs": [
        {
          "output_type": "error",
          "ename": "SyntaxError",
          "evalue": "ignored",
          "traceback": [
            "\u001b[0;36m  File \u001b[0;32m\"<ipython-input-8-76a95491345c>\"\u001b[0;36m, line \u001b[0;32m12\u001b[0m\n\u001b[0;31m    x.train, x.test, y.train, y.test = train_test_split(x,y,test.size = 0.2, random.state=32)\u001b[0m\n\u001b[0m                                                           ^\u001b[0m\n\u001b[0;31mSyntaxError\u001b[0m\u001b[0;31m:\u001b[0m keyword can't be an expression\n"
          ]
        }
      ]
    },
    {
      "cell_type": "code",
      "source": [
        "import numpy as np\n",
        "import pandas as pd\n",
        "import matplotlib as plt\n",
        "import seaborn as sns\n",
        "data=pd.read_csv('/content/Salary_Data.csv')\n",
        "data.head()\n",
        "data.shape\n",
        "x=data.drop(['Salary'],axis=True)\n",
        "y=data['Salary']\n",
        "from sklearn.model_selection import train_test_split\n",
        "x_train,x_test,y_train,y_test=train_test_split(x,y,test_size=0.2,random_state=42)\n",
        "x_train.shape,x_test.shape,y_train.shape,y_test.shape\n",
        "sns.pairplot(data)\n",
        "plt.plot(x_train, y_train, 'r', label='Train Data')\n",
        "plt.xlabel('Year Experience')\n",
        "plt.ylabel('Salary')\n",
        "plt.legend()\n",
        "plt.show()\n",
        "from sklearn.linear_model import LinearRegression\n",
        "model = LinearRegression()\n",
        "model.fit(x_train, y_train)\n",
        "y_pred=mode.predict(x_test).round(1)\n",
        "cal=pd.DataFrame(np.c[y_test, y_pred]), column=['Original Salary','Predicted Salary']\n",
        "print('Coeffient', mode.coef_)\n",
        "print('Intercept', mode.intercept_)\n",
        "print('Accuracy', model.score(x_train, y_train))\n"
      ],
      "metadata": {
        "colab": {
          "base_uri": "https://localhost:8080/",
          "height": 391
        },
        "id": "SgR65d4iIHQw",
        "outputId": "94446e56-9958-429c-e058-174db02b188f"
      },
      "execution_count": null,
      "outputs": [
        {
          "output_type": "execute_result",
          "data": {
            "text/plain": [
              "<seaborn.axisgrid.PairGrid at 0x7f262d971b90>"
            ]
          },
          "metadata": {},
          "execution_count": 9
        },
        {
          "output_type": "display_data",
          "data": {
            "text/plain": [
              "<Figure size 360x360 with 6 Axes>"
            ],
            "image/png": "[encoded data removed]"
          },
          "metadata": {
            "needs_background": "light"
          }
        }
      ]
    },
    {
      "cell_type": "code",
      "source": [],
      "metadata": {
        "id": "DOruRiA3IehP"
      },
      "execution_count": null,
      "outputs": []
    }
  ]
}